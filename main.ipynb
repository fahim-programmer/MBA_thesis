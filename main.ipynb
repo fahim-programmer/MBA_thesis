{
 "cells": [
  {
   "cell_type": "markdown",
   "metadata": {},
   "source": [
    "<div style=\"text-align: left; font-weight: bold; font-size:30px;\"> Study on the effect of periodic rebalancing of investment portfolios creator in different economies compared with the respective economic benchmark </div><hr>"
   ]
  },
  {
   "cell_type": "markdown",
   "metadata": {},
   "source": [
    "An in-depth investigation into the impact of periodic rebalancing on investment portfolios composed of diverse assets, including bonds, equities, and other securities, across various national economies. This study aims to understand how regular adjustments in asset allocations influence portfolio performance relative to each country's unique economic benchmark. By comparing rebalanced portfolios to their respective national economic indicators, the research evaluates whether rebalancing strategies can enhance returns, mitigate risk, and adapt to economic fluctuations specific to each country’s market environment."
   ]
  },
  {
   "cell_type": "markdown",
   "metadata": {},
   "source": [
    "Before we start working we need to get the data and get the packages required for the processing. In this study, data from [Trading View](https://www.tradingview.com/) is used because [Trading View](https://www.tradingview.com/) as a platform gets and organizes data from different countries. In this way, we are able to get data that is otherwise not readily available and is also very costly to directly obtain."
   ]
  },
  {
   "cell_type": "markdown",
   "metadata": {},
   "source": [
    "#### Packages Required"
   ]
  },
  {
   "cell_type": "code",
   "execution_count": null,
   "metadata": {},
   "outputs": [],
   "source": [
    "# Required for obtaining tradingview data\n",
    "%pip install tradingview-datafeed\n",
    "# Required for data processing\n",
    "%pip install pandas\n",
    "%pip install pandas-ta"
   ]
  },
  {
   "cell_type": "markdown",
   "metadata": {},
   "source": [
    "#### Methodology\n",
    "The project will be divided into two main parts, one will be used to manage the data and the other one will manage portfolio optimization models. These models will be initially applied to develop portfolios in different economies.\n",
    "\n",
    "**Mean-Variance Optimization (MVO):**\n",
    "Developed by Harry Markowitz, this model maximizes return for a given level of risk or minimizes risk for a given level of return by optimizing the mean and variance of portfolio returns.\n",
    "\n",
    "**Capital Asset Pricing Model (CAPM):**\n",
    "CAPM considers the relationship between expected return and risk by comparing portfolio return with a risk-free rate and the market return. It’s used to estimate the expected return of assets and helps in choosing assets that align with desired risk levels.\n",
    "\n",
    "**Black-Litterman Model:**\n",
    "This model incorporates investor views with the market equilibrium to produce a more customized and stable asset allocation. It modifies MVO by including subjective input on returns, making it valuable when integrating personal market perspectives.\n",
    "\n",
    "**Risk Parity:**\n",
    "Risk Parity allocates capital such that each asset contributes equally to the overall portfolio risk. This method often leads to diversified portfolios, particularly in terms of risk contributions rather than dollar amounts.\n",
    "\n",
    "**Factor-Based Optimization:**\n",
    "Using factors like size, value, momentum, and quality, this approach selects assets that score well on factors correlated with high returns. Factor-based models help to exploit anomalies and achieve superior risk-adjusted returns.\n",
    "\n",
    "**Minimum Variance Portfolio:**\n",
    "This is a low-risk strategy focused on minimizing portfolio volatility, typically by investing in low-correlation assets. This portfolio is optimal for risk-averse investors, balancing diversification and stability.\n",
    "\n",
    "**Conditional Value at Risk (CVaR) Optimization:**\n",
    "CVaR focuses on limiting extreme downside risk by optimizing for tail risk beyond a set threshold. Often used in stress testing, it is ideal for managing exposure to rare but severe market events.\n",
    "\n",
    "**Sharpe Ratio Maximization:**\n",
    "This model maximizes the Sharpe ratio (return-to-risk ratio) by optimizing the portfolio for the highest risk-adjusted return, enhancing returns relative to volatility. It’s useful when seeking efficient, high-return portfolios.\n",
    "\n",
    "**Kelly Criterion:**\n",
    "The Kelly Criterion is a growth-focused model used to determine optimal bet sizes, balancing growth with the probability of bankruptcy. It is particularly relevant in scenarios where capital preservation and compounding are essential.\n",
    "\n",
    "**Multi-Objective Optimization:**\n",
    "This advanced approach uses techniques like genetic algorithms and simulated annealing to balance multiple objectives, such as maximizing return, minimizing risk, and considering factors like ESG scores. This model is flexible for complex, customized constraints and goals."
   ]
  },
  {
   "cell_type": "markdown",
   "metadata": {},
   "source": [
    "#### Getting Economic Data\n",
    "We need to decide what economies we need to target by their size and pirority, but focus will be put on the economies that are developed like **USA, China, India, Germany, France** these countries are initially selected. The asset classes will be selected on the availability of the same asset classes across all of these countries but mainly it will be stocks, commodities, and bonds. "
   ]
  },
  {
   "cell_type": "markdown",
   "metadata": {},
   "source": [
    "#### Process\n",
    "Then these models are going to be fed data for all of these assets classes on a single pd.Pandas.dataframe and optimal weights will be allocated, this process will be done periodically like quarterly and this has been customizable. Then compared with the bechmark of the country (SPY in USA) returns as compared to buy and hold strategy and then methods are going to be shown in a matrix depicting (returns-benchmark) for every country."
   ]
  }
 ],
 "metadata": {
  "kernelspec": {
   "display_name": "venv",
   "language": "python",
   "name": "python3"
  },
  "language_info": {
   "codemirror_mode": {
    "name": "ipython",
    "version": 3
   },
   "file_extension": ".py",
   "mimetype": "text/x-python",
   "name": "python",
   "nbconvert_exporter": "python",
   "pygments_lexer": "ipython3",
   "version": "3.9.5"
  }
 },
 "nbformat": 4,
 "nbformat_minor": 2
}
